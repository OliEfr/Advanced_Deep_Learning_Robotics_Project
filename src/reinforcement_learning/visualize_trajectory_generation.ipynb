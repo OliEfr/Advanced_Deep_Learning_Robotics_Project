{
 "cells": [
  {
   "cell_type": "code",
   "execution_count": null,
   "id": "96751412",
   "metadata": {},
   "outputs": [],
   "source": [
    "using Plots\n",
    "include(\"trajectory_generation.jl\")\n",
    "include(\"custom_functions.jl\")"
   ]
  },
  {
   "cell_type": "code",
   "execution_count": null,
   "id": "509e50a5",
   "metadata": {},
   "outputs": [],
   "source": [
    "# Generate a 3D trajectory\n",
    "v_setpoint = generate_3D_trajectory(generation_mode=\"ramp\",\n",
    "                                    N=1200,\n",
    "                                    v_max=3.0,\n",
    "                                    v_const=[0.0,-20.0,0.2],\n",
    "                                    N_rise=100.0,\n",
    "                                    N_hold=100.0,\n",
    "                                    N_fall=100.0);"
   ]
  },
  {
   "cell_type": "code",
   "execution_count": null,
   "id": "b71879b5",
   "metadata": {},
   "outputs": [],
   "source": [
    "# Generate a random 3D trajectory\n",
    "v_setpoint = generate_random_3D_trajectory(randomness_mode = 3,\n",
    "                                           N = 1200,\n",
    "                                           v_max = 3.0,\n",
    "                                           N_rise_lower_limit = 10.0,\n",
    "                                           N_rise_upper_limit = 200.0,\n",
    "                                           N_hold_lower_limit = 10.0,\n",
    "                                           N_hold_upper_limit = 200.0,\n",
    "                                           N_fall_lower_limit = 10.0,\n",
    "                                           N_fall_upper_limit = 200.0);\n"
   ]
  },
  {
   "cell_type": "code",
   "execution_count": null,
   "id": "3cad5e8c",
   "metadata": {},
   "outputs": [],
   "source": [
    "p = plot_trajectory(v_setpoint)"
   ]
  },
  {
   "cell_type": "code",
   "execution_count": null,
   "id": "4251a6be",
   "metadata": {},
   "outputs": [],
   "source": [
    "# Save trajectory\n",
    "savefig(p, \"trajectory_plot.svg\")"
   ]
  }
 ],
 "metadata": {
  "@webio": {
   "lastCommId": null,
   "lastKernelId": null
  },
  "kernelspec": {
   "display_name": "Julia 1.8.2",
   "language": "julia",
   "name": "julia-1.8"
  },
  "language_info": {
   "file_extension": ".jl",
   "mimetype": "application/julia",
   "name": "julia",
   "version": "1.8.2"
  },
  "vscode": {
   "interpreter": {
    "hash": "8a14d3cb3a8a01d6659ca21286c75f37ed68cd344cf818a36ad292d43e0de27a"
   }
  }
 },
 "nbformat": 4,
 "nbformat_minor": 5
}
