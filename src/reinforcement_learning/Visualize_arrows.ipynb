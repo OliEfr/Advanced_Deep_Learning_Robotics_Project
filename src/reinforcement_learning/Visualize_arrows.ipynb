{
 "cells": [
  {
   "cell_type": "code",
   "execution_count": null,
   "id": "c5ed871e",
   "metadata": {},
   "outputs": [],
   "source": [
    "include(\"../Flyonic.jl\");\n",
    "using .Flyonic;\n",
    "\n",
    "using Rotations; # used for initial position\n",
    "using LoopThrottle; # Used to throttle the main loop to real time.\n",
    "\n",
    "using LinearAlgebra;"
   ]
  },
  {
   "cell_type": "code",
   "execution_count": null,
   "id": "2f89e7eb",
   "metadata": {},
   "outputs": [],
   "source": [
    "create_visualization();"
   ]
  },
  {
   "cell_type": "code",
   "execution_count": null,
   "id": "fdf0384f",
   "metadata": {},
   "outputs": [],
   "source": [
    "create_VTOL(\"vtol\");\n",
    "create_sphere(\"sphere\", 0.1);\n",
    "set_arrow(\"vector\");"
   ]
  },
  {
   "cell_type": "code",
   "execution_count": null,
   "id": "97d68bf9",
   "metadata": {},
   "outputs": [],
   "source": [
    "function figure_8_position(t, final_time)\n",
    "    radius = 2.0\n",
    "    speed = 0.8\n",
    "    \n",
    "    if (mod(t*speed, 4.0*pi) > 2.0*pi)\n",
    "        p_des_W = [cos(t*speed)*radius-radius,sin(t*speed)*radius,2.0];\n",
    "    else\n",
    "        p_des_W = [-(cos(t*speed)*radius-radius),sin(t*speed)*radius,2.0];\n",
    "    end\n",
    "        \n",
    "    set_transform(\"sphere\", p_des_W);\n",
    "    \n",
    "    return p_des_W\n",
    "end;"
   ]
  },
  {
   "cell_type": "code",
   "execution_count": null,
   "id": "2678370b",
   "metadata": {},
   "outputs": [],
   "source": [
    "# Set init state\n",
    "x_W = [0.0; 0.0; 0.0];\n",
    "R_W = UnitQuaternion(RotY(-pi/2.0)*RotX(pi));\n",
    "\n",
    "    \n",
    "Δt = 0.0025; #1e-3;\n",
    "t = 0.0\n",
    "final_time = 10.0;\n",
    "\n",
    "\n",
    "@throttle t while t < final_time\n",
    "    \n",
    "    p_des_W = figure_8_position(t, final_time);\n",
    "    \n",
    "    set_transform(\"vtol\", x_W, QuatRotation(R_W));\n",
    "    transform_arrow(\"vector\", x_W, p_des_W - x_W, max_head_radius=0.05)\n",
    "    \n",
    "    t += Δt\n",
    "end"
   ]
  }
 ],
 "metadata": {
  "kernelspec": {
   "display_name": "Julia 1.8.2",
   "language": "julia",
   "name": "julia-1.8"
  },
  "language_info": {
   "file_extension": ".jl",
   "mimetype": "application/julia",
   "name": "julia",
   "version": "1.8.2"
  }
 },
 "nbformat": 4,
 "nbformat_minor": 5
}
